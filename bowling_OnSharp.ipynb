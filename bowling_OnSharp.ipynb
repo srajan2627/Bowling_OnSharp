{
 "cells": [
  {
   "cell_type": "code",
   "execution_count": 3,
   "metadata": {},
   "outputs": [],
   "source": [
    "class BowlingGame(object):\n",
    "    def __init__(self):\n",
    "        self._frames = []\n",
    "        for i in range(10): self._frames.append([[], \"\"]) \n",
    "        self._frame = 0\n",
    "        self._score = 0\n",
    "\n",
    "    def roll(self, pins):\n",
    "        if self._frame == 10: raise IndexError(\"10 frames already have done\")\n",
    "        if pins > 10:         raise ValueError(\"A roll cannot score more than 10 points\")\n",
    "        if pins < 0:          raise ValueError(\"Pins can't be a negative number\")\n",
    "\n",
    "        self._frames[self._frame][0].append(pins)\n",
    "\n",
    "        if self._frame == 9:\n",
    "            if len(self._frames[self._frame][0]) == 2:\n",
    "                if pins + self._frames[self._frame][0][0] < 10:\n",
    "                    self._frame += 1\n",
    "            elif len(self._frames[self._frame][0]) == 3:\n",
    "                self._frame += 1\n",
    "        else:\n",
    "            if len(self._frames[self._frame][0]) == 2:\n",
    "                if pins + self._frames[self._frame][0][0] < 10:\n",
    "                    self._frames[self._frame][1] = \"open\"\n",
    "                elif pins + self._frames[self._frame][0][0] == 10:\n",
    "                    self._frames[self._frame][1] = \"spare\"\n",
    "                else:\n",
    "                    raise ValueError(\"Got more than 10 pins down in 1 frame\")\n",
    "                self._frame += 1\n",
    "            else:\n",
    "                if pins == 10:\n",
    "                    self._frames[self._frame][1] = \"strike\"\n",
    "                    self._frame += 1\n",
    "\n",
    "\n",
    "    def score(self):\n",
    "        if self._frame != 10: raise IndexError(\"Incomplete game can't be scored\")\n",
    "\n",
    "        for i in range(9):\n",
    "            if self._frames[i][1] == \"strike\":\n",
    "                #wtf?! if remove () from ternary - another result\n",
    "                self._score += 10 + sum((self._frames[i + 1][0] + (self._frames[i + 2][0] if i < 8 else []))[:2])\n",
    "            elif self._frames[i][1] == \"spare\":\n",
    "                self._score += 10 + self._frames[i+1][0][0]\n",
    "            else:\n",
    "                self._score += sum(self._frames[i][0])\n",
    "        self._score += sum(self._frames[9][0])\n",
    "\n",
    "        return self._score"
   ]
  },
  {
   "cell_type": "code",
   "execution_count": 4,
   "metadata": {},
   "outputs": [],
   "source": [
    "def setUp():\n",
    "    global game\n",
    "    game = BowlingGame()\n",
    "\n",
    "\n",
    "def roll(rolls):\n",
    "    [game.roll(roll) for roll in rolls]\n",
    "\n",
    "\n",
    "def roll_and_score(rolls):\n",
    "    setUp()\n",
    "    roll(rolls)\n",
    "    return game.score()\n",
    "\n",
    "rolls = [[3, 6, 3, 6, 3, 6, 3, 6, 3, 6, 3, 6, 3, 6, 3, 6, 3, 6, 3, 6],\n",
    "        [6, 4, 3, 0, 0, 0, 0, 0, 0, 0, 0, 0, 0, 0, 0, 0, 0, 0, 0, 0],\n",
    "         [0, 0, 0, 0, 0, 0, 0, 0, 0, 0, 0, 0, 0, 0, 0, 0, 0, 0, 0, 0],\n",
    "         [5, 5, 3, 7, 4, 0, 0, 0, 0, 0, 0, 0, 0, 0, 0, 0, 0, 0, 0, 0],\n",
    "         [10, 10, 10, 10, 10, 10, 10, 10, 10, 10, 10, 10],\n",
    "         [0, 0, 0, 0, 0, 0, 0, 0, 0, 0, 0, 0, 0, 0, 0, 0, 0, 0, 10, 6]]\n"
   ]
  },
  {
   "cell_type": "code",
   "execution_count": 5,
   "metadata": {},
   "outputs": [
    {
     "name": "stdout",
     "output_type": "stream",
     "text": [
      "90\n",
      "16\n",
      "0\n",
      "31\n",
      "300\n"
     ]
    }
   ],
   "source": [
    "print(roll_and_score(rolls[0]))\n",
    "print(roll_and_score(rolls[1]))\n",
    "print(roll_and_score(rolls[2]))\n",
    "print(roll_and_score(rolls[3]))\n",
    "print(roll_and_score(rolls[4]))"
   ]
  },
  {
   "cell_type": "code",
   "execution_count": 5,
   "metadata": {},
   "outputs": [],
   "source": []
  },
  {
   "cell_type": "code",
   "execution_count": null,
   "metadata": {},
   "outputs": [],
   "source": []
  }
 ],
 "metadata": {
  "kernelspec": {
   "display_name": "Python 3",
   "language": "python",
   "name": "python3"
  },
  "language_info": {
   "codemirror_mode": {
    "name": "ipython",
    "version": 3
   },
   "file_extension": ".py",
   "mimetype": "text/x-python",
   "name": "python",
   "nbconvert_exporter": "python",
   "pygments_lexer": "ipython3",
   "version": "3.7.4"
  }
 },
 "nbformat": 4,
 "nbformat_minor": 4
}
